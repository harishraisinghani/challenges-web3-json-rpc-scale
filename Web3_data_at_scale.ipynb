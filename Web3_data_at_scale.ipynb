{
  "nbformat": 4,
  "nbformat_minor": 0,
  "metadata": {
    "colab": {
      "name": "Web3 data at scale.ipynb",
      "provenance": [],
      "collapsed_sections": [],
      "authorship_tag": "ABX9TyOcJuFXtwg58x06r1i6CAwb",
      "include_colab_link": true
    },
    "kernelspec": {
      "name": "python3",
      "display_name": "Python 3"
    },
    "language_info": {
      "name": "python"
    }
  },
  "cells": [
    {
      "cell_type": "markdown",
      "metadata": {
        "id": "view-in-github",
        "colab_type": "text"
      },
      "source": [
        "<a href=\"https://colab.research.google.com/github/harishraisinghani/challenges-web3-json-rpc-scale/blob/main/Web3_data_at_scale.ipynb\" target=\"_parent\"><img src=\"https://colab.research.google.com/assets/colab-badge.svg\" alt=\"Open In Colab\"/></a>"
      ]
    },
    {
      "cell_type": "markdown",
      "source": [
        "# Challenges with reading Web3 data at scale\n",
        "A Code Along to explore fetching wallet token balances using JSON-RPC point queries and the Covalent API\n",
        "\n",
        "## Outline\n",
        "1. What is JSON-RPC and how does it work\n",
        "2. What is a wallet in Web3 (EVM context) and how do they work?\n",
        "3. What is an ERC20 token? How do we create one?\n",
        "4. What is the Covalent API?\n",
        "\n",
        "\n",
        "\n",
        "\n",
        "\n",
        "\n",
        "\n",
        "\n",
        "\n",
        "\n"
      ],
      "metadata": {
        "id": "ClorcDVqNSDF"
      }
    },
    {
      "cell_type": "code",
      "source": [
        "pip install web3"
      ],
      "metadata": {
        "id": "dK8rj_bMejX1"
      },
      "execution_count": null,
      "outputs": []
    },
    {
      "cell_type": "markdown",
      "source": [
        "## What is JSON-RPC and how does it work?\n",
        "JSON-RPC is a stateless, light-weight remote procedure call (RPC) protocol which defines several data structures (using JSON as the data format) and how they are processed over various transport methods such as web sockets, http and other message passing environments. See the full spec here: https://www.jsonrpc.org/specification\n",
        "\n",
        "When it comes to reading blockchain data and sending transactions to a blockchain network, the JSON-RPC spec is implemented by every Ethereum and EVM-compatible (e.g. Polygon, BSC, Avalanche C-Chain, Fantom) client. This is why [Ethereum JSON-RPC methods](https://playground.open-rpc.org/?schemaUrl=https://raw.githubusercontent.com/ethereum/execution-apis/assembled-spec/openrpc.json&uiSchema%5BappBar%5D%5Bui:splitView%5D=false&uiSchema%5BappBar%5D%5Bui:input%5D=false&uiSchema%5BappBar%5D%5Bui:examplesDropdown%5D=false) such as `eth_getBalance` can be used the same way on all EVM-compatible blockchains.\n",
        "\n",
        "\n",
        "![Example 1{caption=Figure 1: JSON-RPC data flow}](https://itzone.com.vn/wp-content/uploads/2020/03/a36ff732-6ff7-4076-a86b-1676d5af6c1e.png)\n",
        "\n",
        "\n",
        "The JSON-RPC layer is a 'point-query' interface where data requests for a block or transaction is executed one object at a time so users are unable to query multiple objects at once and cannot batch export data(https://consensys.net/blog/cryptoeconomic-research/covalent-a-decentralized-blockchain-database-and-api/). This bottleneck is a primary reason why JSON-RPC doesn't scale when extracting on-chain data and why tools like the [Covalent API](https://www.covalenthq.com/platform) help address those shortfalls. \n",
        "\n",
        "To use the JSON-RPC layer and query the token balances of a wallet, we need a Web3 provider. There are lots of infrastructure providers out there such as Infura, Ankr, Chainstack, GetBlock and others. For the Ethereum Kovan testnet, we will use [Infura](https://infura.io/).\n",
        "\n",
        "\n",
        "## Set up the Web3 provider\n",
        "The following lines of code are used to set up our Web3 provider using the Infura API:"
      ],
      "metadata": {
        "id": "akhkh7Xfefd2"
      }
    },
    {
      "cell_type": "code",
      "execution_count": null,
      "metadata": {
        "colab": {
          "base_uri": "https://localhost:8080/"
        },
        "id": "-1zQfZSTNRY8",
        "outputId": "599c2259-90ba-406f-d968-c9e1d08f762d"
      },
      "outputs": [
        {
          "output_type": "execute_result",
          "data": {
            "text/plain": [
              "True"
            ]
          },
          "metadata": {},
          "execution_count": 37
        }
      ],
      "source": [
        "from web3 import Web3\n",
        "\n",
        "kovan_provider = 'https://kovan.infura.io/v3/9aa3d95b3bc440fa88ea12eaa4456161'\n",
        "\n",
        "w3_kovan = Web3(Web3.HTTPProvider(kovan_provider))\n",
        "\n",
        "# Check that it is connected\n",
        "w3_kovan.isConnected()"
      ]
    },
    {
      "cell_type": "markdown",
      "source": [
        "Now let us test a few simple [JSON-RPC calls](https://playground.open-rpc.org/?schemaUrl=https://raw.githubusercontent.com/ethereum/execution-apis/assembled-spec/openrpc.json&uiSchema%5BappBar%5D%5Bui:splitView%5D=false&uiSchema%5BappBar%5D%5Bui:input%5D=false&uiSchema%5BappBar%5D%5Bui:examplesDropdown%5D=false). See how they are mapped in `Web3.py` [here](https://web3py.readthedocs.io/en/stable/web3.eth.html#methods).\n",
        "\n",
        "*   `eth_blockNumber` -> `web3.eth.get_block_number()`\n",
        "*   `eth_gasPrice` -> `web3.eth.gas_price`\n",
        "\n"
      ],
      "metadata": {
        "id": "XJOjCMO0fj-o"
      }
    },
    {
      "cell_type": "code",
      "source": [
        "w3_kovan.eth.get_block_number()"
      ],
      "metadata": {
        "colab": {
          "base_uri": "https://localhost:8080/"
        },
        "id": "CGyShq6eftPv",
        "outputId": "544f6e87-d979-4f80-d90d-5f1088b8313f"
      },
      "execution_count": null,
      "outputs": [
        {
          "output_type": "execute_result",
          "data": {
            "text/plain": [
              "32165055"
            ]
          },
          "metadata": {},
          "execution_count": 38
        }
      ]
    },
    {
      "cell_type": "code",
      "source": [
        "w3_kovan.eth.gas_price # Current gas price in Wei"
      ],
      "metadata": {
        "colab": {
          "base_uri": "https://localhost:8080/"
        },
        "id": "R03V-c40gZ0H",
        "outputId": "2c4bbc4f-8cd5-422f-ac16-b85fc2323418"
      },
      "execution_count": null,
      "outputs": [
        {
          "output_type": "execute_result",
          "data": {
            "text/plain": [
              "2500000007"
            ]
          },
          "metadata": {},
          "execution_count": 39
        }
      ]
    },
    {
      "cell_type": "markdown",
      "source": [
        "## Create a Web3 wallet\n",
        "Wallets are fundamental in Web3 as they serve as a digital identity to access applications. Moreover, they provide *access* to digital assets such as fungible and non-fungible tokens (NFTs). A key point to remember is that a wallet does not actually contain any ether or tokens. \n",
        "\n",
        "At its core, a wallet consists of three components:\n",
        "1. **A public key** which serves as an address to send and receive transactions. Think of a public key as a publicly available bank account that someone can send funds to. The public key is derived from a private key.\n",
        "\n",
        "2. **A private key** (which you should always keep private) which is a 256 character binary (64 digit hexadecimal / 32 bytes) code. The private key is an astronomically large number for good reason and while the public key is derived from it, the reverse is practically impossible (https://www.gemini.com/cryptopedia/public-private-keys-cryptography)\n",
        "\n",
        "3. **A mnenomic (seed phrase)** of usually 12 or 24 words  that can uniquey recreate the private key. It should also always be kept private. See the [BIP-39](https://www.blockplate.com/blogs/blockplate/list-of-bip39-wallets-mnemonic-seed) standard. \n",
        "\n",
        "We are going to use the [`eth_account`](https://eth-account.readthedocs.io/en/stable/eth_account.html#module-eth_account.account) Python library (which was automatically installed with Web3.py) to create local private and public keys. \n",
        "\n",
        "**NOTE: EVERYTHING WE DO HERE IS FOR DEMO PURPOSES SO PLEASE DO NOT USE ANY WALLETS HERE AS YOUR PRODUCTION WALLET!**"
      ],
      "metadata": {
        "id": "GKcWztAuY-qC"
      }
    },
    {
      "cell_type": "code",
      "source": [
        "from eth_account import Account\n",
        "\n",
        "Account.enable_unaudited_hdwallet_features()\n",
        "acct, mnemonic = Account.create_with_mnemonic()\n",
        "\n",
        "wallet_address = acct.address\n",
        "private_key = acct.privateKey\n",
        "\n",
        "print(f'My wallet address: {wallet_address}')\n",
        "print(f'My wallet mnemonic that I should never share: \"{mnemonic}\"')"
      ],
      "metadata": {
        "colab": {
          "base_uri": "https://localhost:8080/"
        },
        "id": "4CmKRxQFs7sJ",
        "outputId": "a1e50f17-dbff-4f41-f1e5-0808cf4b3c32"
      },
      "execution_count": null,
      "outputs": [
        {
          "output_type": "stream",
          "name": "stdout",
          "text": [
            "My wallet address: 0x8D1cb70700eE61e8dbda42eaCa5fB2f07d50262a\n",
            "My wallet mnemonic that I should never share: \"clever final diesel much attend harsh banner much barrel file drastic chunk\"\n"
          ]
        }
      ]
    },
    {
      "cell_type": "markdown",
      "source": [
        "So here we now have our public wallet address and our mnemonic that we should never share. We will use this mnemonic to set up our newly created wallet with the MetaMask browser wallet. \n",
        "\n",
        "**NOTE: IF YOU ALREADY HAVE METAMASK INSTALLED, MAKE SURE TO STORE YOUR EXISTING MNEMONIC SOMEWHERE SECURE BEFORE MOVING TO THE NEXT STEP OTHERWISE YOU MIGHT LOSE ACCESS TO YOUR WALLET.**\n",
        "\n",
        "### Bonus:\n",
        "Another way we can create our Web3 wallet out of thin air is by randomly creating our 64 hex / 32 bytes private key and then deriving the public key as follows using Python's [`secrets`](https://docs.python.org/3/library/secrets.html) library:\n"
      ],
      "metadata": {
        "id": "csAECTYztppL"
      }
    },
    {
      "cell_type": "code",
      "source": [
        "import secrets\n",
        "priv = secrets.token_hex(32) # 32 random bytes with each byte converted to two hex digits\n",
        "other_private_key = \"0x\" + priv\n",
        "account = Account.from_key(other_private_key)\n",
        "other_wallet_address = account.address\n",
        "print(\"Wallet address is:\", other_wallet_address)\n",
        "print(\"Private key is:\", other_private_key)"
      ],
      "metadata": {
        "colab": {
          "base_uri": "https://localhost:8080/"
        },
        "id": "OidgZN4_tZH0",
        "outputId": "a7057368-4316-4306-948e-7b9c47bcca03"
      },
      "execution_count": null,
      "outputs": [
        {
          "output_type": "stream",
          "name": "stdout",
          "text": [
            "Wallet address is: 0x0A1073a1CB8a0604525080762D142b35E4E000A8\n",
            "Private key is: 0xbdc105f3d6897a248e5ec19aef7020b66918f80fb49f53fe017c2469421ec710\n"
          ]
        }
      ]
    },
    {
      "cell_type": "markdown",
      "source": [
        "## MetaMask reset wallet\n",
        "\n",
        "If you have MetaMask installed, log out and then select *Forgot password*. \n",
        "\n",
        "You will then be prompted with page to reset your wallet using your Secret Recovery Phrase. Paste your entire mnemonic from above into the first field. \n",
        "\n",
        "![Reset MetaMask Wallet{caption=Figure 2: MetaMask reset wallet}](https://metamask.zendesk.com/hc/article_attachments/5998778572315/SRP_entry.png)\n",
        "\n",
        "Set you password and you should now have imported your wallet generated above into your MetaMask!\n",
        "\n",
        "Now that you have connected your wallet, go to https://faucets.chain.link/ and drip yourself some test ETH and LINK tokens for the Ethereum Kovan test network. \n",
        "\n",
        "### Check your wallet balance\n",
        "\n",
        "Now that you have 0.1 ETH (on Kovan test network) accessible by your wallet, let us check the balance\n",
        "\n"
      ],
      "metadata": {
        "id": "q9JQ9pbFJU1t"
      }
    },
    {
      "cell_type": "code",
      "source": [
        "w3_kovan.eth.get_balance(wallet_address)"
      ],
      "metadata": {
        "colab": {
          "base_uri": "https://localhost:8080/"
        },
        "id": "-DtmvWnfRf6h",
        "outputId": "de2dd0dd-3695-41f3-cfe8-bdf7ce22e47d"
      },
      "execution_count": null,
      "outputs": [
        {
          "output_type": "execute_result",
          "data": {
            "text/plain": [
              "100000000000000000"
            ]
          },
          "metadata": {},
          "execution_count": 41
        }
      ]
    },
    {
      "cell_type": "markdown",
      "source": [
        "You also have 20 test LINK tokens. How do we check the balance of that using JSON-RPC calls?\n",
        "\n",
        "We need to have the deployed LINK token contract address on Kovan as well as its Application Binary Interface (ABI). The ABI is the human-readable representation of a smart contract and defines its methods and structures in JSON format.  \n",
        "\n",
        "This process of fetching first the token contract address and its ABI holds true for any token that you want to get the balance for. \n",
        "\n",
        "*   Chainlink token on Kovan details: https://docs.chain.link/docs/link-token-contracts/#kovan\n",
        "*   Chainlink token ABI: https://etherscan.io/address/0x514910771af9ca656af840dff83e8264ecf986ca#code\n",
        "\n",
        "We can now create an instance of the LINK token contract and call its methods:\n",
        "\n",
        "\n",
        "\n"
      ],
      "metadata": {
        "id": "BBRIMDI6RvM0"
      }
    },
    {
      "cell_type": "code",
      "source": [
        "kovan_link_address = '0xa36085F69e2889c224210F603D836748e7dC0088'"
      ],
      "metadata": {
        "id": "IEm_2sfkWR1a"
      },
      "execution_count": null,
      "outputs": []
    },
    {
      "cell_type": "code",
      "source": [
        "abi = [{\"constant\":True,\"inputs\":[],\"name\":\"name\",\"outputs\":[{\"name\":\"\",\"type\":\"string\"}],\"payable\":False,\"stateMutability\":\"view\",\"type\":\"function\"},{\"constant\":False,\"inputs\":[{\"name\":\"_spender\",\"type\":\"address\"},{\"name\":\"_value\",\"type\":\"uint256\"}],\"name\":\"approve\",\"outputs\":[{\"name\":\"\",\"type\":\"bool\"}],\"payable\":False,\"stateMutability\":\"nonpayable\",\"type\":\"function\"},{\"constant\":True,\"inputs\":[],\"name\":\"totalSupply\",\"outputs\":[{\"name\":\"\",\"type\":\"uint256\"}],\"payable\":False,\"stateMutability\":\"view\",\"type\":\"function\"},{\"constant\":False,\"inputs\":[{\"name\":\"_from\",\"type\":\"address\"},{\"name\":\"_to\",\"type\":\"address\"},{\"name\":\"_value\",\"type\":\"uint256\"}],\"name\":\"transferFrom\",\"outputs\":[{\"name\":\"\",\"type\":\"bool\"}],\"payable\":False,\"stateMutability\":\"nonpayable\",\"type\":\"function\"},{\"constant\":True,\"inputs\":[],\"name\":\"decimals\",\"outputs\":[{\"name\":\"\",\"type\":\"uint8\"}],\"payable\":False,\"stateMutability\":\"view\",\"type\":\"function\"},{\"constant\":False,\"inputs\":[{\"name\":\"_to\",\"type\":\"address\"},{\"name\":\"_value\",\"type\":\"uint256\"},{\"name\":\"_data\",\"type\":\"bytes\"}],\"name\":\"transferAndCall\",\"outputs\":[{\"name\":\"success\",\"type\":\"bool\"}],\"payable\":False,\"stateMutability\":\"nonpayable\",\"type\":\"function\"},{\"constant\":False,\"inputs\":[{\"name\":\"_spender\",\"type\":\"address\"},{\"name\":\"_subtractedValue\",\"type\":\"uint256\"}],\"name\":\"decreaseApproval\",\"outputs\":[{\"name\":\"success\",\"type\":\"bool\"}],\"payable\":False,\"stateMutability\":\"nonpayable\",\"type\":\"function\"},{\"constant\":True,\"inputs\":[{\"name\":\"_owner\",\"type\":\"address\"}],\"name\":\"balanceOf\",\"outputs\":[{\"name\":\"balance\",\"type\":\"uint256\"}],\"payable\":False,\"stateMutability\":\"view\",\"type\":\"function\"},{\"constant\":True,\"inputs\":[],\"name\":\"symbol\",\"outputs\":[{\"name\":\"\",\"type\":\"string\"}],\"payable\":False,\"stateMutability\":\"view\",\"type\":\"function\"},{\"constant\":False,\"inputs\":[{\"name\":\"_to\",\"type\":\"address\"},{\"name\":\"_value\",\"type\":\"uint256\"}],\"name\":\"transfer\",\"outputs\":[{\"name\":\"success\",\"type\":\"bool\"}],\"payable\":False,\"stateMutability\":\"nonpayable\",\"type\":\"function\"},{\"constant\":False,\"inputs\":[{\"name\":\"_spender\",\"type\":\"address\"},{\"name\":\"_addedValue\",\"type\":\"uint256\"}],\"name\":\"increaseApproval\",\"outputs\":[{\"name\":\"success\",\"type\":\"bool\"}],\"payable\":False,\"stateMutability\":\"nonpayable\",\"type\":\"function\"},{\"constant\":True,\"inputs\":[{\"name\":\"_owner\",\"type\":\"address\"},{\"name\":\"_spender\",\"type\":\"address\"}],\"name\":\"allowance\",\"outputs\":[{\"name\":\"remaining\",\"type\":\"uint256\"}],\"payable\":False,\"stateMutability\":\"view\",\"type\":\"function\"},{\"inputs\":[],\"payable\":False,\"stateMutability\":\"nonpayable\",\"type\":\"constructor\"},{\"anonymous\":False,\"inputs\":[{\"indexed\":True,\"name\":\"from\",\"type\":\"address\"},{\"indexed\":True,\"name\":\"to\",\"type\":\"address\"},{\"indexed\":False,\"name\":\"value\",\"type\":\"uint256\"},{\"indexed\":False,\"name\":\"data\",\"type\":\"bytes\"}],\"name\":\"Transfer\",\"type\":\"event\"},{\"anonymous\":False,\"inputs\":[{\"indexed\":True,\"name\":\"owner\",\"type\":\"address\"},{\"indexed\":True,\"name\":\"spender\",\"type\":\"address\"},{\"indexed\":False,\"name\":\"value\",\"type\":\"uint256\"}],\"name\":\"Approval\",\"type\":\"event\"}]"
      ],
      "metadata": {
        "id": "nWHATmbFYlv7"
      },
      "execution_count": null,
      "outputs": []
    },
    {
      "cell_type": "code",
      "source": [
        "link_token = w3_kovan.eth.contract(address=kovan_link_address, abi=abi)"
      ],
      "metadata": {
        "id": "1EL9ALEcZdGD"
      },
      "execution_count": null,
      "outputs": []
    },
    {
      "cell_type": "code",
      "source": [
        "symbol = link_token.functions.symbol().call()\n",
        "symbol"
      ],
      "metadata": {
        "colab": {
          "base_uri": "https://localhost:8080/",
          "height": 35
        },
        "id": "7LiCENkNZmAY",
        "outputId": "55494288-cac4-48ca-d166-6035b5501d03"
      },
      "execution_count": null,
      "outputs": [
        {
          "output_type": "execute_result",
          "data": {
            "text/plain": [
              "'LINK'"
            ],
            "application/vnd.google.colaboratory.intrinsic+json": {
              "type": "string"
            }
          },
          "metadata": {},
          "execution_count": 45
        }
      ]
    },
    {
      "cell_type": "code",
      "source": [
        "balance = link_token.functions.balanceOf(wallet_address).call()\n",
        "balance"
      ],
      "metadata": {
        "colab": {
          "base_uri": "https://localhost:8080/"
        },
        "id": "eW1l0DimZsqc",
        "outputId": "33bb2168-a11c-46c3-f745-508ba665b3a0"
      },
      "execution_count": null,
      "outputs": [
        {
          "output_type": "execute_result",
          "data": {
            "text/plain": [
              "20000000000000000000"
            ]
          },
          "metadata": {},
          "execution_count": 46
        }
      ]
    },
    {
      "cell_type": "markdown",
      "source": [
        "So now we can see pretty quickly the limitations of making JSON-RPC calls to fetch token balances for a wallet address. This is where tools like the Covalent API address those limitations. \n",
        "\n",
        "## The Covalent API\n",
        "\n",
        "[Covalent](https://www.covalenthq.com) provides a unified API to bring full transparency and visibility to assets across all blockchains.\n",
        "\n",
        "To get started, sign up for an [API Key](https://www.covalenthq.com/platform). \n"
      ],
      "metadata": {
        "id": "5dGIf8fObszu"
      }
    },
    {
      "cell_type": "code",
      "source": [
        "API_KEY = 'ckey_6bf60a7bf22d4a309dbe74f3c5c'"
      ],
      "metadata": {
        "id": "G86cskq3Z1yD"
      },
      "execution_count": null,
      "outputs": []
    },
    {
      "cell_type": "markdown",
      "source": [
        "Then we use Python's Requests library to make a standard HTTP GET request to the [`Get token balances for address`](https://www.covalenthq.com/docs/api/#/0/Get%20token%20balances%20for%20address/USD/42) API endpoint."
      ],
      "metadata": {
        "id": "OahdoKgPciNF"
      }
    },
    {
      "cell_type": "code",
      "source": [
        "import requests\n",
        "\n",
        "chain_id = 42 # for Kovan\n",
        "\n",
        "url = f'https://api.covalenthq.com/v1/{chain_id}/address/{wallet_address}/balances_v2/?key={API_KEY}'\n",
        "\n",
        "r = requests.get(url)\n",
        "data = r.json()\n",
        "\n",
        "data"
      ],
      "metadata": {
        "colab": {
          "base_uri": "https://localhost:8080/"
        },
        "id": "Kjxx42HgdAcu",
        "outputId": "fecfc0bb-0a68-47d8-fb18-2f0b437242a1"
      },
      "execution_count": null,
      "outputs": [
        {
          "output_type": "execute_result",
          "data": {
            "text/plain": [
              "{'data': {'address': '0x8d1cb70700ee61e8dbda42eaca5fb2f07d50262a',\n",
              "  'chain_id': 42,\n",
              "  'items': [{'balance': '100000000000000000',\n",
              "    'balance_24h': '0',\n",
              "    'contract_address': '0xeeeeeeeeeeeeeeeeeeeeeeeeeeeeeeeeeeeeeeee',\n",
              "    'contract_decimals': 18,\n",
              "    'contract_name': 'Ether',\n",
              "    'contract_ticker_symbol': 'ETH',\n",
              "    'last_transferred_at': None,\n",
              "    'logo_url': 'https://www.covalenthq.com/static/images/icons/display-icons/ethereum-eth-logo.png',\n",
              "    'nft_data': None,\n",
              "    'quote': 117.34874,\n",
              "    'quote_24h': None,\n",
              "    'quote_rate': 1173.4874,\n",
              "    'quote_rate_24h': None,\n",
              "    'supports_erc': None,\n",
              "    'type': 'cryptocurrency'},\n",
              "   {'balance': '20000000000000000000',\n",
              "    'balance_24h': '0',\n",
              "    'contract_address': '0xa36085f69e2889c224210f603d836748e7dc0088',\n",
              "    'contract_decimals': 18,\n",
              "    'contract_name': 'ChainLink Token',\n",
              "    'contract_ticker_symbol': 'LINK',\n",
              "    'last_transferred_at': '2022-06-14T04:33:52Z',\n",
              "    'logo_url': 'https://logos.covalenthq.com/tokens/1/0xa36085f69e2889c224210f603d836748e7dc0088.png',\n",
              "    'nft_data': None,\n",
              "    'quote': 0.0,\n",
              "    'quote_24h': None,\n",
              "    'quote_rate': None,\n",
              "    'quote_rate_24h': None,\n",
              "    'supports_erc': ['erc20'],\n",
              "    'type': 'cryptocurrency'}],\n",
              "  'next_update_at': '2022-06-14T04:40:02.901089077Z',\n",
              "  'pagination': None,\n",
              "  'quote_currency': 'USD',\n",
              "  'updated_at': '2022-06-14T04:35:02.901088787Z'},\n",
              " 'error': False,\n",
              " 'error_code': None,\n",
              " 'error_message': None}"
            ]
          },
          "metadata": {},
          "execution_count": 48
        }
      ]
    },
    {
      "cell_type": "markdown",
      "source": [
        "We see that the data structure of the API response contains a list of `'items'` that we can iterate through to display the balance (in Wei) of EACH token that this wallet has access too. "
      ],
      "metadata": {
        "id": "Uvt0JZaLd1gi"
      }
    },
    {
      "cell_type": "code",
      "source": [
        "tokens = data['data']['items']\n",
        "\n",
        "for token in tokens:\n",
        "  print(f'{token[\"contract_ticker_symbol\"]}:{float(token[\"balance\"])/10**token[\"contract_decimals\"]}')"
      ],
      "metadata": {
        "colab": {
          "base_uri": "https://localhost:8080/"
        },
        "id": "e1lYAQ8Bdu2e",
        "outputId": "a4c6d110-52ac-448d-9f73-1c509a3b1b79"
      },
      "execution_count": null,
      "outputs": [
        {
          "output_type": "stream",
          "name": "stdout",
          "text": [
            "ETH:0.1\n",
            "LINK:20.0\n"
          ]
        }
      ]
    },
    {
      "cell_type": "markdown",
      "source": [
        "And that's all you need to do to fetch all the ERC20 tokens using the Covalent API!"
      ],
      "metadata": {
        "id": "ntSg5VwBeucc"
      }
    }
  ]
}